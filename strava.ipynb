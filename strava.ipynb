{
 "cells": [
  {
   "cell_type": "code",
   "execution_count": 16,
   "metadata": {},
   "outputs": [
    {
     "name": "stdout",
     "output_type": "stream",
     "text": [
      "0 kudo(s) was given.\n"
     ]
    }
   ],
   "source": [
    "from selenium import webdriver\n",
    "import time\n",
    "\n",
    "url = 'https://www.strava.com/login'\n",
    "\n",
    "user = 'ADD YOUR EMAIL'\n",
    "password = 'ADD YOUR PASSWORD'\n",
    "\n",
    "driver = webdriver.Chrome()\n",
    "driver.get(url)\n",
    "time.sleep(2)\n",
    "driver.find_element_by_id('email').send_keys(user)\n",
    "driver.find_element_by_id('password').send_keys(password)\n",
    "driver.find_element_by_id('login-button').click()\n",
    "time.sleep(3)\n",
    "click_count = 0\n",
    "\n",
    "for i in range(10):\n",
    "    kudos = driver.find_elements_by_class_name('js-add-kudo')\n",
    "    for kudo in kudos:\n",
    "        try:\n",
    "            kudo.click()\n",
    "            click_count += 1\n",
    "        except:\n",
    "            pass\n",
    "    driver.execute_script(\"window.scrollBy(0, 5000);\")\n",
    "    time.sleep(2)\n",
    "\n",
    "driver.close()\n",
    "\n",
    "print(click_count, 'kudo(s) was given.')\n"
   ]
  }
 ],
 "metadata": {
  "kernelspec": {
   "display_name": "Python 3",
   "language": "python",
   "name": "python3"
  },
  "language_info": {
   "codemirror_mode": {
    "name": "ipython",
    "version": 3
   },
   "file_extension": ".py",
   "mimetype": "text/x-python",
   "name": "python",
   "nbconvert_exporter": "python",
   "pygments_lexer": "ipython3",
   "version": "3.7.7"
  }
 },
 "nbformat": 4,
 "nbformat_minor": 2
}